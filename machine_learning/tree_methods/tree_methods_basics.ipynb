{
 "cells": [
  {
   "cell_type": "code",
   "execution_count": 1,
   "metadata": {},
   "outputs": [],
   "source": [
    "import findspark\n",
    "findspark.init(\"/home/gorazda/spark-2.4.7-bin-hadoop2.7\")\n",
    "import pyspark\n",
    "from pyspark.sql import SparkSession"
   ]
  },
  {
   "cell_type": "code",
   "execution_count": 2,
   "metadata": {},
   "outputs": [],
   "source": [
    "spark = SparkSession.builder.appName(\"tree_methods_basics\").getOrCreate()"
   ]
  },
  {
   "cell_type": "code",
   "execution_count": 3,
   "metadata": {},
   "outputs": [],
   "source": [
    "from pyspark.ml import Pipeline\n",
    "from pyspark.ml.classification import RandomForestClassifier, GBTClassifier, DecisionTreeClassifier"
   ]
  },
  {
   "cell_type": "code",
   "execution_count": 4,
   "metadata": {},
   "outputs": [],
   "source": [
    "data = spark.read.format(\"libsvm\").load(\"sample_libsvm_data.txt\")"
   ]
  },
  {
   "cell_type": "code",
   "execution_count": 5,
   "metadata": {},
   "outputs": [
    {
     "name": "stdout",
     "output_type": "stream",
     "text": [
      "+-----+--------------------+\n",
      "|label|            features|\n",
      "+-----+--------------------+\n",
      "|  0.0|(692,[127,128,129...|\n",
      "|  1.0|(692,[158,159,160...|\n",
      "|  1.0|(692,[124,125,126...|\n",
      "|  1.0|(692,[152,153,154...|\n",
      "|  1.0|(692,[151,152,153...|\n",
      "|  0.0|(692,[129,130,131...|\n",
      "|  1.0|(692,[158,159,160...|\n",
      "|  1.0|(692,[99,100,101,...|\n",
      "|  0.0|(692,[154,155,156...|\n",
      "|  0.0|(692,[127,128,129...|\n",
      "|  1.0|(692,[154,155,156...|\n",
      "|  0.0|(692,[153,154,155...|\n",
      "|  0.0|(692,[151,152,153...|\n",
      "|  1.0|(692,[129,130,131...|\n",
      "|  0.0|(692,[154,155,156...|\n",
      "|  1.0|(692,[150,151,152...|\n",
      "|  0.0|(692,[124,125,126...|\n",
      "|  0.0|(692,[152,153,154...|\n",
      "|  1.0|(692,[97,98,99,12...|\n",
      "|  1.0|(692,[124,125,126...|\n",
      "+-----+--------------------+\n",
      "only showing top 20 rows\n",
      "\n"
     ]
    }
   ],
   "source": [
    "data.show()"
   ]
  },
  {
   "cell_type": "code",
   "execution_count": 6,
   "metadata": {},
   "outputs": [],
   "source": [
    "train_data, test_data = data.randomSplit([0.7, 0.3])"
   ]
  },
  {
   "cell_type": "code",
   "execution_count": 7,
   "metadata": {},
   "outputs": [],
   "source": [
    "dtc = DecisionTreeClassifier(labelCol=\"label\", featuresCol=\"features\")"
   ]
  },
  {
   "cell_type": "code",
   "execution_count": 9,
   "metadata": {},
   "outputs": [],
   "source": [
    "rfc = RandomForestClassifier(numTrees=100)\n",
    "gbt = GBTClassifier()"
   ]
  },
  {
   "cell_type": "code",
   "execution_count": 10,
   "metadata": {},
   "outputs": [],
   "source": [
    "dtc_model = dtc.fit(train_data)\n",
    "rfc_model = rfc.fit(train_data)\n",
    "gbt_model = gbt.fit(train_data)"
   ]
  },
  {
   "cell_type": "code",
   "execution_count": 11,
   "metadata": {},
   "outputs": [],
   "source": [
    "dtc_preds = dtc_model.transform(test_data)\n",
    "rfc_preds = rfc_model.transform(test_data)\n",
    "gbt_preds = gbt_model.transform(test_data)"
   ]
  },
  {
   "cell_type": "code",
   "execution_count": 13,
   "metadata": {},
   "outputs": [
    {
     "name": "stdout",
     "output_type": "stream",
     "text": [
      "+-----+--------------------+--------------------+--------------------+----------+\n",
      "|label|            features|       rawPrediction|         probability|prediction|\n",
      "+-----+--------------------+--------------------+--------------------+----------+\n",
      "|  0.0|(692,[121,122,123...|[1.54350200272498...|[0.95635347857270...|       0.0|\n",
      "|  0.0|(692,[122,123,124...|[1.54350200272498...|[0.95635347857270...|       0.0|\n",
      "|  0.0|(692,[122,123,148...|[1.54350200272498...|[0.95635347857270...|       0.0|\n",
      "|  0.0|(692,[123,124,125...|[1.54350200272498...|[0.95635347857270...|       0.0|\n",
      "|  0.0|(692,[124,125,126...|[1.54350200272498...|[0.95635347857270...|       0.0|\n",
      "|  0.0|(692,[124,125,126...|[1.25198218210507...|[0.92441926976158...|       0.0|\n",
      "|  0.0|(692,[124,125,126...|[1.54350200272498...|[0.95635347857270...|       0.0|\n",
      "|  0.0|(692,[125,126,127...|[1.54350200272498...|[0.95635347857270...|       0.0|\n",
      "|  0.0|(692,[126,127,128...|[1.54350200272498...|[0.95635347857270...|       0.0|\n",
      "|  0.0|(692,[126,127,128...|[1.45888006131699...|[0.94871743254236...|       0.0|\n",
      "|  0.0|(692,[126,127,128...|[1.54350200272498...|[0.95635347857270...|       0.0|\n",
      "|  0.0|(692,[127,128,129...|[1.48143455362102...|[0.95086820599203...|       0.0|\n",
      "|  0.0|(692,[128,129,130...|[1.54350200272498...|[0.95635347857270...|       0.0|\n",
      "|  0.0|(692,[153,154,155...|[1.36066831465412...|[0.93827399120112...|       0.0|\n",
      "|  0.0|(692,[154,155,156...|[1.54350200272498...|[0.95635347857270...|       0.0|\n",
      "|  0.0|(692,[154,155,156...|[-1.2735820360706...|[0.07261723668889...|       1.0|\n",
      "|  0.0|(692,[181,182,183...|[1.54350200272498...|[0.95635347857270...|       0.0|\n",
      "|  0.0|(692,[234,235,237...|[1.04655304180236...|[0.89023131873163...|       0.0|\n",
      "|  1.0|(692,[119,120,121...|[-1.5435020027249...|[0.04364652142729...|       1.0|\n",
      "|  1.0|(692,[123,124,125...|[-1.5435020027249...|[0.04364652142729...|       1.0|\n",
      "+-----+--------------------+--------------------+--------------------+----------+\n",
      "only showing top 20 rows\n",
      "\n"
     ]
    }
   ],
   "source": [
    "gbt_preds.show()"
   ]
  },
  {
   "cell_type": "code",
   "execution_count": 14,
   "metadata": {},
   "outputs": [],
   "source": [
    "from pyspark.ml.evaluation import MulticlassClassificationEvaluator"
   ]
  },
  {
   "cell_type": "code",
   "execution_count": 15,
   "metadata": {},
   "outputs": [],
   "source": [
    "acc_eval = MulticlassClassificationEvaluator(metricName=\"accuracy\")"
   ]
  },
  {
   "cell_type": "code",
   "execution_count": 19,
   "metadata": {},
   "outputs": [
    {
     "name": "stdout",
     "output_type": "stream",
     "text": [
      "DTC accuracy\n",
      "0.9666666666666667\n",
      "\n",
      "RFC accuracy\n",
      "1.0\n",
      "\n",
      "GBT accuracy\n",
      "0.9666666666666667\n"
     ]
    }
   ],
   "source": [
    "print(\"DTC accuracy\")\n",
    "print(acc_eval.evaluate(dtc_preds))\n",
    "print(\"\\nRFC accuracy\")\n",
    "print(acc_eval.evaluate(rfc_preds))\n",
    "print(\"\\nGBT accuracy\")\n",
    "print(acc_eval.evaluate(gbt_preds))"
   ]
  },
  {
   "cell_type": "code",
   "execution_count": 20,
   "metadata": {},
   "outputs": [
    {
     "data": {
      "text/plain": [
       "SparseVector(692, {100: 0.0005, 152: 0.0012, 154: 0.0005, 157: 0.0011, 178: 0.0007, 180: 0.0002, 182: 0.0007, 185: 0.0006, 186: 0.0005, 210: 0.0003, 214: 0.0006, 215: 0.0016, 216: 0.0079, 235: 0.0006, 243: 0.0015, 258: 0.0013, 262: 0.0214, 263: 0.0072, 267: 0.0023, 272: 0.0028, 273: 0.0015, 274: 0.0028, 289: 0.0077, 290: 0.0265, 296: 0.0037, 299: 0.0006, 300: 0.0006, 301: 0.0082, 302: 0.0009, 303: 0.0013, 317: 0.0062, 319: 0.0002, 320: 0.0006, 322: 0.0036, 323: 0.0124, 328: 0.0041, 329: 0.0014, 345: 0.0066, 346: 0.0073, 350: 0.0089, 351: 0.0101, 352: 0.0057, 355: 0.0023, 356: 0.0089, 357: 0.0094, 370: 0.0015, 378: 0.0058, 379: 0.0389, 380: 0.0012, 381: 0.003, 384: 0.0086, 386: 0.006, 399: 0.0085, 402: 0.0021, 403: 0.0026, 405: 0.032, 406: 0.056, 407: 0.043, 408: 0.0014, 412: 0.0159, 413: 0.0259, 414: 0.0014, 416: 0.0014, 429: 0.0078, 430: 0.0017, 432: 0.0004, 433: 0.0188, 434: 0.0043, 435: 0.0233, 438: 0.0027, 440: 0.016, 455: 0.0168, 456: 0.0099, 457: 0.0011, 461: 0.0199, 462: 0.0307, 463: 0.0005, 464: 0.0011, 467: 0.0087, 469: 0.0058, 471: 0.0032, 483: 0.0269, 484: 0.0196, 485: 0.0014, 486: 0.001, 489: 0.0131, 490: 0.0195, 492: 0.0006, 493: 0.0005, 510: 0.0032, 511: 0.0167, 512: 0.01, 514: 0.0005, 516: 0.003, 517: 0.0461, 521: 0.0007, 522: 0.0006, 523: 0.0239, 524: 0.009, 538: 0.0023, 539: 0.0182, 540: 0.0407, 541: 0.0061, 544: 0.0013, 545: 0.0049, 546: 0.0015, 551: 0.027, 552: 0.0083, 567: 0.0042, 568: 0.0091, 569: 0.0059, 577: 0.0059, 578: 0.0193, 579: 0.0006, 597: 0.0028, 600: 0.0005, 604: 0.0006, 607: 0.0007, 611: 0.0015, 624: 0.0065, 627: 0.0013, 629: 0.0011, 631: 0.0007, 632: 0.0004, 633: 0.0064, 652: 0.0007, 653: 0.0003, 659: 0.0017, 685: 0.0007})"
      ]
     },
     "execution_count": 20,
     "metadata": {},
     "output_type": "execute_result"
    }
   ],
   "source": [
    "rfc_model.featureImportances"
   ]
  }
 ],
 "metadata": {
  "kernelspec": {
   "display_name": "Python 3",
   "language": "python",
   "name": "python3"
  },
  "language_info": {
   "codemirror_mode": {
    "name": "ipython",
    "version": 3
   },
   "file_extension": ".py",
   "mimetype": "text/x-python",
   "name": "python",
   "nbconvert_exporter": "python",
   "pygments_lexer": "ipython3",
   "version": "3.6.9"
  }
 },
 "nbformat": 4,
 "nbformat_minor": 4
}
